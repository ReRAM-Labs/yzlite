{
    "cells": [
        {
            "attachments": {},
            "cell_type": "markdown",
            "metadata": {},
            "source": [
                "# Cloud Logging with Weights & Biases\n",
                "\n",
                "This tutorial describes how to log the information generated during model development to the cloud.\n",
                "While many 3rd-party cloud solutions are available, this tutorial uses [Weights & Biases](https://wandb.ai):\n",
                "\n",
                "> Weights & Biases makes it easy to track your experiments, manage & version your data, and collaborate with your team so you can focus on building the best models.\n",
                "\n",
                "This has the following benefits:\n",
                "- All model development files (trained model files, evaluation results, etc.) are saved to the cloud\n",
                "- Graphical interface for comparing different training runs\n",
                "- Sort training runs by custom configuration values to see which has the most benefit\n",
                "- View model training status from anywhere \n",
                "- Email alerts for when model training completes\n",
                "- Automatically generate model report (interactive webpage or PDF)\n",
                "- Monitor GPU and CPU usage during model training\n",
                "\n",
                "![](https://github.com/ReRAM-Labs/yzlite/raw/master/docs/img/wandb_overview.gif)"
            ]
        },
        {
            "attachments": {},
            "cell_type": "markdown",
            "metadata": {},
            "source": [
                "## Disclaimer\n",
                "\n",
                "[Weights & Biases](https://wandb.ai) is free for personal use but requires a paid subscription for commercial use.\n",
                "\n",
                "See the [Pricing Guide](https://wandb.ai/site/pricing) for more information."
            ]
        },
        {
            "attachments": {},
            "cell_type": "markdown",
            "metadata": {},
            "source": [
                "## Quick Links\n",
                "\n",
                "- [Weight & Biases Documentation](https://docs.wandb.ai)\n",
                "- [WeightsAndBiasesMixin API Reference](https://github.com/ReRAM-Labs/yzlite/docs/python_api/yzlite_model/weights_and_biases_mixin.html)"
            ]
        },
        {
            "attachments": {},
            "cell_type": "markdown",
            "metadata": {},
            "source": [
                "## Contents\n",
                "\n",
                "This tutorial is divided into the following sections:\n",
                "\n",
                "1. [Basic Usage](#basic-usage)\n",
                "2. [Logging information](#logging-information)\n",
                "3. [Training and logging in the cloud](#training-and-logging-in-the-cloud)\n",
                "4. [Other Features](#other-features)"
            ]
        },
        {
            "attachments": {},
            "cell_type": "markdown",
            "metadata": {},
            "source": [
                "## Basic Usage\n",
                "\n",
                "The basic flow for logging information to the cloud is as follows:\n",
                "\n",
                "1. Create a Weights & Biases [account](https://app.wandb.ai/login?signup=true)\n",
                "2. Install the YZLITE, see the [Installation Guide](https://github.com/ReRAM-Labs/yzlite/docs/installation.html#standard-python-package):  \n",
                "   ```shell\n",
                "   pip install yizhu-yzlite\n",
                "   ```\n",
                "\n",
                "3. Install the [Weights & Biases](https://docs.wandb.ai/quickstart) python package:   \n",
                "   ```shell\n",
                "   pip install wandb\n",
                "   ```\n",
                "4. Log into your wandb account using the command:  \n",
                "   ```shell\n",
                "   wandb login\n",
                "   ```\n",
                "5. Define your YZLITE [model specification]() and extend the [WeightsAndBiasesMixin](https://github.com/ReRAM-Labs/yzlite/docs/python_api/yzlite_model/weights_and_biases_mixin.html), e.g.:  \n",
                "\n",
                "   ```python\n",
                "   import yzlite.core as yzlite_core\n",
                "\n",
                "   class MyModel(\n",
                "      yzlite_core.YZLiteModel,\n",
                "      yzlite_core.TrainMixin,\n",
                "      yzlite_core.DatasetMixin,\n",
                "      yzlite_core.EvaluateClassifierMixin,\n",
                "      yzlite_core.WeightsAndBiasesMixin\n",
                "   ):\n",
                "      pass\n",
                "   my_model = MyModel()\n",
                "   ```\n",
                "6. [Train](https://github.com/ReRAM-Labs/yzlite/docs/guides/model_training.html) your model with the command:  \n",
                "   ```shell\n",
                "   yzlite train <model name> --post\n",
                "   ```\n",
                "   Where `--post` tells the YZLITE to enable the [WeightsAndBiasesMixin](https://github.com/ReRAM-Labs/yzlite/docs/python_api/yzlite_model/weights_and_biases_mixin.html)\n",
                "7. Optionally [profile](https://github.com/ReRAM-Labs/yzlite/docs/guides/model_profiler.html) your model with the command:    \n",
                "   ```shell\n",
                "   yzlite profile <model name> --accelerator mvp --device --post\n",
                "   ```\n",
                "   Where `--post` tells the YZLITE to enable the [WeightsAndBiasesMixin](https://github.com/ReRAM-Labs/yzlite/docs/python_api/yzlite_model/weights_and_biases_mixin.html)\n",
                "\n",
                "\n",
                "That's it! This will train (and optionally profile) the model and all relevant information will automatically be logged to the [Weights & Biases](https://wandb.ai) cloud."
            ]
        },
        {
            "attachments": {},
            "cell_type": "markdown",
            "metadata": {},
            "source": [
                "## Logging Information\n",
                "\n",
                "The [WeightsAndBiasesMixin](https://github.com/ReRAM-Labs/yzlite/docs/python_api/yzlite_model/weights_and_biases_mixin.html) manages all of the details of initializing the wandb session and automatically logging the relavant information to the cloud.\n",
                "\n",
                "### Default Data\n",
                "\n",
                "By default, the following information is logged to the cloud:\n",
                "\n",
                "- [Model specification](https://github.com/ReRAM-Labs/yzlite/docs/guides/model_specification.html) - The Python script that defines your model\n",
                "- [Model archive](https://github.com/ReRAM-Labs/yzlite/docs/guides/model_archive.html) - ZIP file containing the trained model files \n",
                "- [Model summary](https://github.com/ReRAM-Labs/yzlite/docs/guides/model_summary.html) - Basic informaation about the model\n",
                "- Dataset summary - Basic information about the dataset used for training and evaluation\n",
                "- [Training history](https://docs.wandb.ai/ref/python/integrations/keras/wandbcallback) - Learn rate, accuracy, loss, etc.\n",
                "- [Evaluation results](https://github.com/ReRAM-Labs/yzlite/docs/guides/model_evaluation.html) - Precision, recall, ROC, etc.\n",
                "- [Profiling results](https://github.com/ReRAM-Labs/yzlite/docs/guides/model_profiler.html) - Inference/s, RAM and flash usage, etc.\n",
                "- System usage - GPU, CPU, disk, memory utilization, etc.\n",
                "\n",
                "### Custom Data\n",
                "\n",
                "Any custom data can also be stored in the cloud using:\n",
                "- [WeightsAndBiasesMixin.wandb_log()](https://github.com/ReRAM-Labs/yzlite/docs/python_api/yzlite_model/weights_and_biases_mixin.html#yzlite.core.WeightsAndBiasesMixin.wandb_log) - post custom logging information\n",
                "- [WeightsAndBiasesMixin.wandb_save()](https://github.com/ReRAM-Labs/yzlite/docs/python_api/yzlite_model/weights_and_biases_mixin.html#yzlite.core.WeightsAndBiasesMixin.wandb_save) - upload a file\n",
                "\n",
                "Internally, these APIs call the wandb APIs:\n",
                "- [wandb.log()](https://docs.wandb.ai/ref/python/log)\n",
                "- [wandb.save()](https://docs.wandb.ai/ref/python/save)\n"
            ]
        },
        {
            "attachments": {},
            "cell_type": "markdown",
            "metadata": {},
            "source": [
                "## Training and logging in the cloud\n",
                "\n",
                "The YZLITE supports training via [SSH](https://github.com/ReRAM-Labs/yzlite/docs/guides/model_training_via_ssh.html).\n",
                "This feature allows for model training in the cloud which can greatly reduce model training time.  \n",
                "See the [Cloud Training via vast.ai](https://github.com/ReRAM-Labs/yzlite/yzlite/tutorials/cloud_training_with_vast_ai.html) tutorial for more details.\n",
                "\n",
                "The following is needed to enable logging to [Weight & Biases](https://wandb.ai) while training in the cloud:\n",
                "\n",
                "1. Obtain your wandb [API Key](https://docs.wandb.ai/guides/integrations/dagster#how-to-get-an-api-key):  \n",
                "   a. [Log in to W&B](https://wandb.ai/login)  \n",
                "   b. Collect your API key by navigating to the [authorization page](https://wandb.ai/authorize)\n",
                "2. Create/modify the [~/.yzlite/user_settings.yaml](https://github.com/ReRAM-Labs/yzlite/docs/other/settings_file.html) file and add:  \n",
                "   ```yaml\n",
                "   ssh:\n",
                "      startup_cmds:\n",
                "      - pip install wandb plotly\n",
                "      - wandb login <API KEY> \n",
                "   ```\n",
                "   where `<API KEY>` is your API key from step 1\n",
                "\n",
                "That's it! When you model trains on the cloud machine, it will also log to the Weights & Biases cloud.  \n",
                "This is especially useful when used in conjunction with the [Alerts](https://docs.wandb.ai/guides/track/alert) feature of W&B so you can be notified when training completes."
            ]
        },
        {
            "attachments": {},
            "cell_type": "markdown",
            "metadata": {},
            "source": [
                "## Other Features\n",
                "\n",
                "The Weights & Biases [documentation](https://docs.wandb.ai/guides) describes many useful features.\n",
                "\n",
                "Some of the more useful features include:\n",
                "\n",
                "- [Collaborative Reports](https://docs.wandb.ai/guides/reports) - Reports let you organize, embed and automate visualizations, describe your findings, share updates with collaborators, and more.\n",
                "- [Alerts](https://docs.wandb.ai/guides/track/alert) - Send alerts, triggered from your Python code, to your Slack or email\n",
                "- [Storing Artifacts](https://docs.wandb.ai/guides/artifacts) -  track datasets, models, dependencies, and results through each step of your machine learning pipeline. Artifacts make it easy to get a complete and auditable history of changes to your files."
            ]
        }
    ],
    "metadata": {
        "kernelspec": {
            "display_name": ".venv",
            "language": "python",
            "name": "python3"
        },
        "language_info": {
            "name": "python",
            "version": "3.10.8"
        },
        "orig_nbformat": 4,
        "vscode": {
            "interpreter": {
                "hash": "1b794eb47024974fee893fdb7015f3d322c4012087fc39c73069299b7c169399"
            }
        }
    },
    "nbformat": 4,
    "nbformat_minor": 2
}
