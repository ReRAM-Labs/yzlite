{
    "cells": [
        {
            "cell_type": "markdown",
            "metadata": {},
            "source": [
                "# Model Quantization API Examples\n",
                "\n",
                "This demonstrates how to use the [quantize_model](https://github.com/ReRAM-Labs/yzlite/docs/python_api/operations/quantize.html) API.\n",
                "\n",
                "Refer to the [Model Quantization](https://github.com/ReRAM-Labs/yzlite/docs/guides/model_quantization.html) guide for more details.\n",
                "\n",
                "__NOTES:__  \n",
                "\n",
                "- Click here: [![Open In Colab](https://colab.research.google.com/assets/colab-badge.svg)](https://colab.research.google.com/github/yizhutech/yzlite/blob/master/yzlite/examples/quantize_model.ipynb) to run this example interactively in your browser  \n",
                "- Refer to the [Notebook Examples Guide](https://github.com/ReRAM-Labs/yzlite/docs/guides/notebook_examples_guide.html) for how to run this example locally in VSCode  "
            ]
        },
        {
            "cell_type": "markdown",
            "metadata": {},
            "source": [
                "## Install YZLITE Python Package"
            ]
        },
        {
            "cell_type": "code",
            "execution_count": 1,
            "metadata": {},
            "outputs": [],
            "source": [
                "# Install the YZLITE Python package (if necessary)\n",
                "!pip install --upgrade yizhu-yzlite"
            ]
        },
        {
            "cell_type": "markdown",
            "metadata": {},
            "source": [
                "## Import Python Packages"
            ]
        },
        {
            "cell_type": "code",
            "execution_count": 1,
            "metadata": {},
            "outputs": [],
            "source": [
                "# Import the necessary YZLITE APIs\n",
                "from yzlite.core import quantize_model"
            ]
        },
        {
            "cell_type": "markdown",
            "metadata": {},
            "source": [
                "## Example 1: Update .tflite in model archive\n",
                "\n",
                "The most common use case of the [quantize_model](https://github.com/ReRAM-Labs/yzlite/docs/python_api/operations/quantize.html) API is:  \n",
                "1. Fully [train](https://github.com/ReRAM-Labs/yzlite/docs/guides/model_training.html) a model  \n",
                "2. Later modify the [TrainMixin.tflite_converter](https://github.com/ReRAM-Labs/yzlite/docs/python_api/yzlite_model/train_mixin.html#yzlite.core.TrainMixin.tflite_converter) settings in the [model specification](https://github.com/ReRAM-Labs/yzlite/docs/guides/model_specification.html) script  \n",
                "3. Run the [quantize_model](https://github.com/ReRAM-Labs/yzlite/docs/python_api/operations/quantize.html) API to update the `.tflite` model file in the [model archive](https://github.com/ReRAM-Labs/yzlite/docs/guides/model_archive.html).\n",
                "\n",
                "In this example, it's assumed that the [TrainMixin.tflite_converter](https://github.com/ReRAM-Labs/yzlite/docs/python_api/yzlite_model/train_mixin.html#yzlite.core.TrainMixin.tflite_converter) settings in\n",
                "the [image_example1](https://github.com/ReRAM-Labs/yzlite/docs/python_api/models/examples/image_example1.html) model specification script have been modified _after_ the model have been\n",
                "trained.\n",
                "\n",
                "After this API completes, the `image_example1.yzlite.zip` model archive is updated with a new `image_example1.tflite` model file."
            ]
        },
        {
            "cell_type": "code",
            "execution_count": 2,
            "metadata": {},
            "outputs": [
                {
                    "name": "stderr",
                    "output_type": "stream",
                    "text": [
                        "WARNING:absl:Found untraced functions such as _jit_compiled_convolution_op, _jit_compiled_convolution_op, _jit_compiled_convolution_op while saving (showing 3 of 3). These functions will not be directly callable after loading.\n"
                    ]
                },
                {
                    "name": "stdout",
                    "output_type": "stream",
                    "text": [
                        "INFO:tensorflow:Assets written to: E:\\tmpvpnr_8op\\assets\n"
                    ]
                },
                {
                    "name": "stderr",
                    "output_type": "stream",
                    "text": [
                        "INFO:tensorflow:Assets written to: E:\\tmpvpnr_8op\\assets\n",
                        "WARNING:absl:Found untraced functions such as _jit_compiled_convolution_op, _jit_compiled_convolution_op, _jit_compiled_convolution_op while saving (showing 3 of 3). These functions will not be directly callable after loading.\n"
                    ]
                },
                {
                    "name": "stdout",
                    "output_type": "stream",
                    "text": [
                        "INFO:tensorflow:Assets written to: E:\\tmp6fs6_29o\\assets\n"
                    ]
                },
                {
                    "name": "stderr",
                    "output_type": "stream",
                    "text": [
                        "INFO:tensorflow:Assets written to: E:\\tmp6fs6_29o\\assets\n",
                        "c:\\Users\\reed\\workspace\\yizhu\\yzlite\\.venv\\lib\\site-packages\\tensorflow\\lite\\python\\convert.py:766: UserWarning: Statistics for quantized inputs were expected, but not specified; continuing anyway.\n",
                        "  warnings.warn(\"Statistics for quantized inputs were expected, but not \"\n"
                    ]
                }
            ],
            "source": [
                "tflite_path = quantize_model('image_example1')"
            ]
        }
    ],
    "metadata": {
        "kernelspec": {
            "display_name": "Python 3.9.7 ('.venv': venv)",
            "language": "python",
            "name": "python3"
        },
        "language_info": {
            "codemirror_mode": {
                "name": "ipython",
                "version": 3
            },
            "file_extension": ".py",
            "mimetype": "text/x-python",
            "name": "python",
            "nbconvert_exporter": "python",
            "pygments_lexer": "ipython3",
            "version": "3.9.7"
        },
        "orig_nbformat": 4,
        "vscode": {
            "interpreter": {
                "hash": "600e22ae316f8c315f552eaf99bb679bc9438a443c93affde9ac001991b79c8f"
            }
        }
    },
    "nbformat": 4,
    "nbformat_minor": 2
}
